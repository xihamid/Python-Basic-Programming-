{
 "cells": [
  {
   "cell_type": "markdown",
   "metadata": {},
   "source": [
    "1.Write a Python program to convert kilometers to miles?\n",
    "2.Write a Python program to convert Celsius to Fahrenheit?\n",
    "3.Write a Python program to display calendar?\n",
    "4.Write a Python program to solve quadratic equation?\n",
    "5.Write a Python program to swap two variables without temp variable?"
   ]
  },
  {
   "cell_type": "markdown",
   "metadata": {},
   "source": [
    "1.Write a Python program to convert kilometers to miles?\n",
    "--------------------"
   ]
  },
  {
   "cell_type": "code",
   "execution_count": 7,
   "metadata": {},
   "outputs": [
    {
     "name": "stdout",
     "output_type": "stream",
     "text": [
      "Enter KM you want to convert into miles4\n",
      "4 KM = 2.48 miles\n"
     ]
    }
   ],
   "source": [
    "user_input=int(input(\"Enter KM you want to convert into miles\"))\n",
    "one_mile=0.62\n",
    "Miles=user_input*one_mile\n",
    "print(\"{} KM = {} miles\".format(user_input,Miles))"
   ]
  },
  {
   "cell_type": "markdown",
   "metadata": {},
   "source": [
    "2.Write a Python program to convert Celsius to Fahrenheit?\n",
    "--------------"
   ]
  },
  {
   "cell_type": "code",
   "execution_count": 8,
   "metadata": {},
   "outputs": [
    {
     "name": "stdout",
     "output_type": "stream",
     "text": [
      "Enter Temperatuure in Celsius:7\n",
      "7°C = 44.6°F \n"
     ]
    }
   ],
   "source": [
    "celcius=int(input(\"Enter Temperatuure in Celsius:\"))\n",
    "fahrenheit=( celcius * 9/5) + 32\n",
    "print(\"{}°C = {}°F \".format(celcius,fahrenheit))"
   ]
  },
  {
   "cell_type": "markdown",
   "metadata": {},
   "source": [
    "3.Write a Python program to display calendar?\n",
    "--------------------------------"
   ]
  },
  {
   "cell_type": "code",
   "execution_count": 1,
   "metadata": {},
   "outputs": [
    {
     "name": "stdout",
     "output_type": "stream",
     "text": [
      "Enter Year1997\n",
      "Enter Month10\n",
      "    October 1997\n",
      "Mo Tu We Th Fr Sa Su\n",
      "       1  2  3  4  5\n",
      " 6  7  8  9 10 11 12\n",
      "13 14 15 16 17 18 19\n",
      "20 21 22 23 24 25 26\n",
      "27 28 29 30 31\n",
      "\n"
     ]
    }
   ],
   "source": [
    "import calendar as cd\n",
    "year=int(input(\"Enter Year\"))\n",
    "month=int(input(\"Enter Month\"))\n",
    "print(cd.month(year,month))\n"
   ]
  },
  {
   "cell_type": "markdown",
   "metadata": {},
   "source": [
    "4.Write a Python program to solve quadratic equation?\n",
    "---------------------------"
   ]
  },
  {
   "cell_type": "code",
   "execution_count": 20,
   "metadata": {},
   "outputs": [
    {
     "name": "stdout",
     "output_type": "stream",
     "text": [
      "Enter value of  a: 4\n",
      "Enter value of  b: 4\n",
      "Enter  value of  c: 4\n",
      "The Answers  are (-0.5-0.8660254037844386j) and (-0.5+0.8660254037844386j)\n"
     ]
    }
   ],
   "source": [
    "import cmath  \n",
    "a = float(input('Enter value of  a: '))  \n",
    "b = float(input('Enter value of  b: '))  \n",
    "c = float(input('Enter  value of  c: '))  \n",
    "  \n",
    "# Discriminant  \n",
    "Discriminant = (b**2) - (4*a*c)  \n",
    "# find two solutions  \n",
    "solution1 = (-b-cmath.sqrt(Discriminant))/(2*a)  \n",
    "solution2 = (-b+cmath.sqrt(Discriminant))/(2*a)  \n",
    "print('The Answers  are {} and {}'.format(solution1,solution2))  "
   ]
  },
  {
   "cell_type": "markdown",
   "metadata": {},
   "source": [
    "5.Write a Python program to swap two variables without temp variable?\n",
    "-------------------------"
   ]
  },
  {
   "cell_type": "code",
   "execution_count": 24,
   "metadata": {},
   "outputs": [
    {
     "name": "stdout",
     "output_type": "stream",
     "text": [
      "Enter 1st Number 4\n",
      "Enter 2nd  Number7\n",
      "Before Swaping  1st number = 4 \n",
      " 2nd number = 7\n",
      "\n",
      "After Swaping  1st number = 7 \n",
      " 2nd number = 4\n"
     ]
    }
   ],
   "source": [
    "a=int(input('Enter 1st Number '))\n",
    "b=int(input('Enter 2nd  Number'))\n",
    "print('Before Swaping\\n  1st number = {} \\n 2nd number = {}'.format(a,b))\n",
    "a,b=b,a\n",
    "print('\\nAfter Swaping  1st number = {} \\n 2nd number = {}'.format(a,b))"
   ]
  },
  {
   "cell_type": "code",
   "execution_count": null,
   "metadata": {},
   "outputs": [],
   "source": []
  }
 ],
 "metadata": {
  "kernelspec": {
   "display_name": "Python 3",
   "language": "python",
   "name": "python3"
  },
  "language_info": {
   "codemirror_mode": {
    "name": "ipython",
    "version": 3
   },
   "file_extension": ".py",
   "mimetype": "text/x-python",
   "name": "python",
   "nbconvert_exporter": "python",
   "pygments_lexer": "ipython3",
   "version": "3.8.5"
  }
 },
 "nbformat": 4,
 "nbformat_minor": 4
}
