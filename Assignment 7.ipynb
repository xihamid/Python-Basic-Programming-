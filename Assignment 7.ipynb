{
 "cells": [
  {
   "cell_type": "code",
   "execution_count": 1,
   "metadata": {},
   "outputs": [
    {
     "name": "stdout",
     "output_type": "stream",
     "text": [
      "Object `array` not found.\n",
      "Object `array` not found.\n",
      "Object `rotation` not found.\n",
      "Object `end` not found.\n",
      "Object `Monotonic` not found.\n"
     ]
    }
   ],
   "source": [
    "1.Write a Python Program to find sum of array?\n",
    "2.Write a Python Program to find largest element in an array?\n",
    "3.Write a Python Program for array rotation?\n",
    "4.Write a Python Program to Split the array and add the first part to the end?\n",
    "5.Write a Python Program to check if given array is Monotonic?"
   ]
  },
  {
   "cell_type": "markdown",
   "metadata": {},
   "source": [
    "1.Write a Python Program to find sum of array?\n",
    "--------------------"
   ]
  },
  {
   "cell_type": "code",
   "execution_count": 12,
   "metadata": {},
   "outputs": [
    {
     "name": "stdout",
     "output_type": "stream",
     "text": [
      "Sum = 1134 \n"
     ]
    }
   ],
   "source": [
    "arrey = [5, 6, 3, 554, 566]     \n",
    "sum = 0;     \n",
    "for i in range(0, len(arrey)):  \n",
    "    sum = sum + arrey[i]   \n",
    "print(f\"Sum = {sum} \") "
   ]
  },
  {
   "cell_type": "markdown",
   "metadata": {},
   "source": [
    "2.Write a Python Program to find largest element in an array?\n",
    "---------------"
   ]
  },
  {
   "cell_type": "code",
   "execution_count": 13,
   "metadata": {},
   "outputs": [
    {
     "name": "stdout",
     "output_type": "stream",
     "text": [
      "Max in Array = 566 \n"
     ]
    }
   ],
   "source": [
    "arrey = [5, 6, 3, 554, 566] \n",
    "print(f\"Max in Array = {max(arrey)} \") "
   ]
  },
  {
   "cell_type": "markdown",
   "metadata": {},
   "source": [
    "3.Write a Python Program for array rotation?\n",
    "--------------------------"
   ]
  },
  {
   "cell_type": "code",
   "execution_count": 32,
   "metadata": {},
   "outputs": [
    {
     "data": {
      "text/plain": [
       "[554, 566, 5, 6, 3]"
      ]
     },
     "execution_count": 32,
     "metadata": {},
     "output_type": "execute_result"
    }
   ],
   "source": [
    "before_rotate_list= [5, 6, 3, 554, 566]\n",
    "after_rotate=before_rotate_list[3:] + before_rotate_list[:3]\n",
    "after_rotate"
   ]
  },
  {
   "cell_type": "markdown",
   "metadata": {},
   "source": [
    "4.Write a Python Program to Split the array and add the first part to the end?\n",
    "-----------------------"
   ]
  },
  {
   "cell_type": "code",
   "execution_count": 84,
   "metadata": {},
   "outputs": [
    {
     "name": "stdout",
     "output_type": "stream",
     "text": [
      "Enter how many elements want o add in list:7\n",
      "Enter Elemenets:8\n",
      "Enter Elemenets:3\n",
      "Enter Elemenets:5\n",
      "Enter Elemenets:6\n",
      "Enter Elemenets:h\n",
      "Enter Elemenets:n\n",
      "Enter Elemenets:g\n",
      "Before split: ['8', '3', '5', '6', 'h', 'n', 'g'] \n",
      " After split: ['6', 'h', 'n', 'g', '8', '3', '5']\n"
     ]
    }
   ],
   "source": [
    "before_split_list=[]\n",
    "n=int(input(\"Enter how many elements want o add in list:\"))\n",
    "for i in range(n):\n",
    "        element=input(\"Enter Elemenets:\")\n",
    "        before_split_list.append(element)\n",
    "after_split_list=before_split_list[3:] + before_split_list[:3]\n",
    "print(f\"Before split: {before_split_list} \\n After split: {after_split_list}\")"
   ]
  },
  {
   "cell_type": "markdown",
   "metadata": {},
   "source": [
    "5.Write a Python Program to check if given array is Monotonic?\n",
    "------------------------------"
   ]
  },
  {
   "cell_type": "code",
   "execution_count": 85,
   "metadata": {},
   "outputs": [
    {
     "name": "stdout",
     "output_type": "stream",
     "text": [
      "True\n"
     ]
    }
   ],
   "source": [
    "def isMonotonic(A):\n",
    "    return (all(A[i] <= A[i + 1] for i in range(len(A) - 1)) or\n",
    "            all(A[i] >= A[i + 1] for i in range(len(A) - 1)))\n",
    "A = [6, 5, 4, 4]\n",
    "print(isMonotonic(A))\n",
    "  "
   ]
  },
  {
   "cell_type": "code",
   "execution_count": null,
   "metadata": {},
   "outputs": [],
   "source": []
  }
 ],
 "metadata": {
  "kernelspec": {
   "display_name": "Python 3",
   "language": "python",
   "name": "python3"
  },
  "language_info": {
   "codemirror_mode": {
    "name": "ipython",
    "version": 3
   },
   "file_extension": ".py",
   "mimetype": "text/x-python",
   "name": "python",
   "nbconvert_exporter": "python",
   "pygments_lexer": "ipython3",
   "version": "3.8.5"
  }
 },
 "nbformat": 4,
 "nbformat_minor": 4
}
