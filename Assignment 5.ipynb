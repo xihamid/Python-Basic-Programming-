{
 "cells": [
  {
   "cell_type": "markdown",
   "metadata": {},
   "source": [
    "1.Write a Python Program to Find LCM?\n",
    "-----------------------"
   ]
  },
  {
   "cell_type": "code",
   "execution_count": 81,
   "metadata": {},
   "outputs": [
    {
     "name": "stdout",
     "output_type": "stream",
     "text": [
      "Enter 1st Number:78\n",
      "Enter 2nd Number:45\n",
      "The LCM of 78 and 45 number is 1170\n"
     ]
    }
   ],
   "source": [
    "first_number=int(input(\"Enter 1st Number:\"))\n",
    "second_number=int(input(\"Enter 2nd Number:\"))\n",
    "Max_Number=max(first_number,second_number)\n",
    "while (True):\n",
    "    if Max_Number%first_number==0 and Max_Number%second_number==0:\n",
    "        break\n",
    "    Max_Number+=1\n",
    "print(f\"The LCM of {first_number} and {second_number} number is {Max_Number}\")"
   ]
  },
  {
   "cell_type": "markdown",
   "metadata": {},
   "source": [
    "2.Write a Python Program to Find HCF?\n",
    "------------------------"
   ]
  },
  {
   "cell_type": "code",
   "execution_count": 82,
   "metadata": {},
   "outputs": [
    {
     "name": "stdout",
     "output_type": "stream",
     "text": [
      "Enter 1st Number:88\n",
      "Enter 2nd Number:77\n",
      "The HCF of 88 and 77 number is 11\n"
     ]
    }
   ],
   "source": [
    "first_number=int(input(\"Enter 1st Number:\"))\n",
    "second_number=int(input(\"Enter 2nd Number:\"))\n",
    "Min_Number=min(first_number,second_number)\n",
    "for i in range(1,Min_Number+1):\n",
    "    if first_number%i==0 and second_number%i==0:\n",
    "        HCF=i\n",
    "print(f\"The HCF of {first_number} and {second_number} number is {HCF}\")"
   ]
  },
  {
   "cell_type": "markdown",
   "metadata": {},
   "source": [
    "3.Write a Python Program to Convert Decimal to Binary, Octal and Hexadecimal?\n",
    "------------------------"
   ]
  },
  {
   "cell_type": "code",
   "execution_count": 84,
   "metadata": {},
   "outputs": [
    {
     "name": "stdout",
     "output_type": "stream",
     "text": [
      "Enter Number:55\n",
      "The decimal value of 55 is:\n",
      "0b110111 in binary.\n",
      "0o67 in octal.\n",
      "0x37 in hexadecimal.\n"
     ]
    }
   ],
   "source": [
    "user_input=int(input(\"Enter Number:\"))\n",
    "print(\"The decimal value of\", user_input, \"is:\")\n",
    "print(bin(user_input), \"in binary.\")\n",
    "print(oct(user_input), \"in octal.\")\n",
    "print(hex(user_input), \"in hexadecimal.\")"
   ]
  },
  {
   "cell_type": "markdown",
   "metadata": {},
   "source": [
    "4.Write a Python Program To Find ASCII value of a character?\n",
    "-----------------------------"
   ]
  },
  {
   "cell_type": "code",
   "execution_count": 85,
   "metadata": {},
   "outputs": [
    {
     "name": "stdout",
     "output_type": "stream",
     "text": [
      "Enter any Character:B\n",
      "The ASCII value of B is 66\n"
     ]
    }
   ],
   "source": [
    "user_input=input(\"Enter any Character:\")\n",
    "asci=ord(user_input)\n",
    "print(f\"The ASCII value of {user_input} is {asci}\")"
   ]
  },
  {
   "cell_type": "markdown",
   "metadata": {},
   "source": [
    "5.Write a Python Program to Make a Simple Calculator with 4 basic mathematical operations?\n",
    "----------------------------"
   ]
  },
  {
   "cell_type": "code",
   "execution_count": 86,
   "metadata": {},
   "outputs": [
    {
     "name": "stdout",
     "output_type": "stream",
     "text": [
      "Press 1,2,3,4\n",
      "Press 1.For Addition\n",
      "Press 2.For Subtraction\n",
      "Press 3.For Multiplication\n",
      "Press 4.For Division\n",
      "Enter 1,2,3,4 :3\n",
      "********************\n",
      "Enter 1st Number:88\n",
      "Enter 2nd Number:77\n",
      "88 * 77 = 6776\n"
     ]
    }
   ],
   "source": [
    "print(\"Press 1,2,3,4\")\n",
    "print(\"Press 1.For Addition\")\n",
    "print(\"Press 2.For Subtraction\")\n",
    "print(\"Press 3.For Multiplication\")\n",
    "print(\"Press 4.For Division\")\n",
    "choice=int(input('Enter 1,2,3,4 :'))\n",
    "print('*'*20)\n",
    "num1=int(input('Enter 1st Number:'))\n",
    "num2=int(input('Enter 2nd Number:')) \n",
    "while (True):\n",
    "    if choice==1:\n",
    "        print(f\"{num1} + {num2} = {num1+num2}\")\n",
    "        break\n",
    "    elif choice==2:\n",
    "        print(f\"{num1} - {num2} = {num1-num2}\")\n",
    "        break\n",
    "    elif choice==3:\n",
    "        print(f\"{num1} * {num2} = {num1*num2}\")\n",
    "        break\n",
    "    elif choice==4:\n",
    "        print(f\"{num1} / {num2} = {num1/num2}\")\n",
    "        break"
   ]
  },
  {
   "cell_type": "code",
   "execution_count": null,
   "metadata": {},
   "outputs": [],
   "source": []
  }
 ],
 "metadata": {
  "kernelspec": {
   "display_name": "Python 3",
   "language": "python",
   "name": "python3"
  },
  "language_info": {
   "codemirror_mode": {
    "name": "ipython",
    "version": 3
   },
   "file_extension": ".py",
   "mimetype": "text/x-python",
   "name": "python",
   "nbconvert_exporter": "python",
   "pygments_lexer": "ipython3",
   "version": "3.8.5"
  }
 },
 "nbformat": 4,
 "nbformat_minor": 4
}
