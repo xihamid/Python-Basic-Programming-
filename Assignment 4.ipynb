{
 "cells": [
  {
   "cell_type": "code",
   "execution_count": null,
   "metadata": {},
   "outputs": [],
   "source": [
    "1.Write a Python Program to Find the Factorial of a Number?\n",
    "2.Write a Python Program to Display the multiplication Table?\n",
    "3.Write a Python Program to Print the Fibonacci sequence?\n",
    "4.Write a Python Program to Check Armstrong Number?\n",
    "5.Write a Python Program to Find Armstrong Number in an Interval?\n",
    "6.Write a Python Program to Find the Sum of Natural Numbers?"
   ]
  },
  {
   "cell_type": "markdown",
   "metadata": {},
   "source": [
    "1.Write a Python Program to Find the Factorial of a Number?\n",
    "---------------------------\n"
   ]
  },
  {
   "cell_type": "code",
   "execution_count": 61,
   "metadata": {},
   "outputs": [
    {
     "name": "stdout",
     "output_type": "stream",
     "text": [
      "Enter Number 5\n",
      "Factorial of 1 = 1  \n",
      "Factorial of 2 = 2  \n",
      "Factorial of 3 = 6  \n",
      "Factorial of 4 = 24  \n",
      "Factorial of 5 = 120  \n"
     ]
    }
   ],
   "source": [
    "user_input=int(input(\"Enter Number \"))\n",
    "fact=1\n",
    "if user_input==0:\n",
    "    print(\"Factorial of 0 = 1 \")\n",
    "elif user_input<0:\n",
    "    print(\"Please Enter Positive Number\")\n",
    "else:\n",
    "     for i in range(fact,user_input+1):\n",
    "        fact=fact*i \n",
    "        print(\"Factorial of {} = {}  \".format(i,fact))"
   ]
  },
  {
   "cell_type": "markdown",
   "metadata": {},
   "source": [
    "2.Write a Python Program to Display the multiplication Table?\n",
    "---------------------------"
   ]
  },
  {
   "cell_type": "code",
   "execution_count": 74,
   "metadata": {},
   "outputs": [
    {
     "name": "stdout",
     "output_type": "stream",
     "text": [
      "Enter any Number to display Table5\n",
      "####################\n",
      "5  *  1  =  5\n",
      "5  *  2  =  10\n",
      "5  *  3  =  15\n",
      "5  *  4  =  20\n",
      "5  *  5  =  25\n",
      "5  *  6  =  30\n",
      "5  *  7  =  35\n",
      "5  *  8  =  40\n",
      "5  *  9  =  45\n",
      "5  *  10  =  50\n",
      "####################\n"
     ]
    }
   ],
   "source": [
    "user_input=int(input(\"Enter any Number to display Table\"))\n",
    "print('#'*20)\n",
    "for i in range(1,11):\n",
    "    print(\"{}  *  {}  =  {}\".format(user_input,i,user_input*i))\n",
    "print('#'*20)"
   ]
  },
  {
   "cell_type": "markdown",
   "metadata": {},
   "source": [
    "3.Write a Python Program to Print the Fibonacci sequence?\n",
    "-------------------"
   ]
  },
  {
   "cell_type": "code",
   "execution_count": 115,
   "metadata": {},
   "outputs": [
    {
     "name": "stdout",
     "output_type": "stream",
     "text": [
      "Enter Max number to get fibonacci:20\n",
      "0\n",
      "1\n",
      "1\n",
      "2\n",
      "3\n",
      "5\n",
      "8\n",
      "13\n",
      "21\n"
     ]
    }
   ],
   "source": [
    "def Fibonacci(user_input):\n",
    "    a=0\n",
    "    b=1\n",
    "    c=2\n",
    "    if user_input==1:\n",
    "        print(a)\n",
    "    else:\n",
    "        print(a)\n",
    "        print(b)\n",
    "        while (c<=user_input):\n",
    "            c=a+b\n",
    "            b=c\n",
    "            print(c)\n",
    "           \n",
    "            \n",
    "user_input=int(input(\"Enter Max number to get fibonacci:\"))\n",
    "Fibonacci(user_input)"
   ]
  },
  {
   "cell_type": "markdown",
   "metadata": {},
   "source": [
    " 4.Write a Python Program to Check Armstrong Number?\n",
    " ------------------------"
   ]
  },
  {
   "cell_type": "code",
   "execution_count": 240,
   "metadata": {},
   "outputs": [],
   "source": [
    "def Armstrong(number):\n",
    "    a=list(str(number))\n",
    "    l=[]\n",
    "    power_of_each_digit=[]\n",
    "    for i in a:\n",
    "        if type(i)==str:\n",
    "            l.append(int(i))\n",
    "    for i in l:\n",
    "        if type(i)==int:\n",
    "            power_of_each_digit.append(i**len(l))\n",
    "    if number==sum(power_of_each_digit):\n",
    "        print(\"{} is Armstrong number.\".format(number))\n",
    "    else:\n",
    "        print(\"It is not Armstrong number Beacuse  {}  and  sum of square {} are not equal\".format(number,sum(power_of_each_digit)))"
   ]
  },
  {
   "cell_type": "code",
   "execution_count": 242,
   "metadata": {},
   "outputs": [
    {
     "name": "stdout",
     "output_type": "stream",
     "text": [
      "Enter a number to find Armstrong:153\n",
      "153 is Armstrong number.\n"
     ]
    }
   ],
   "source": [
    "number=int(input(\"Enter a number to find Armstrong:\"))\n",
    "Armstrong(number)"
   ]
  },
  {
   "cell_type": "markdown",
   "metadata": {},
   "source": [
    "5.Write a Python Program to Find Armstrong Number in an Interval?\n",
    "-----------------------"
   ]
  },
  {
   "cell_type": "code",
   "execution_count": 252,
   "metadata": {},
   "outputs": [
    {
     "name": "stdout",
     "output_type": "stream",
     "text": [
      "Enter starting range: 42\n",
      "Enter maximum range: 555\n",
      "64\n",
      "125\n",
      "153\n",
      "216\n",
      "370\n",
      "371\n",
      "407\n"
     ]
    }
   ],
   "source": [
    "starting = int(input(\"Enter starting range: \"))  \n",
    "maximum = int(input(\"Enter maximum range: \"))  \n",
    "for num in range(starting,maximum+1):  \n",
    "    sum = 0  \n",
    "    temp = num\n",
    "    while temp > 0:  \n",
    "        digit = temp % 10  \n",
    "        sum += digit ** 3  \n",
    "        temp //= 10  \n",
    "        if num == sum:  \n",
    "            print(num)  "
   ]
  },
  {
   "cell_type": "markdown",
   "metadata": {},
   "source": [
    "6.Write a Python Program to Find the Sum of Natural Numbers?\n",
    "-------------------------------"
   ]
  },
  {
   "cell_type": "code",
   "execution_count": 128,
   "metadata": {},
   "outputs": [],
   "source": [
    "def Sum(n):\n",
    "    a=(n*(n+1))/2\n",
    "    return a        "
   ]
  },
  {
   "cell_type": "code",
   "execution_count": 130,
   "metadata": {},
   "outputs": [
    {
     "data": {
      "text/plain": [
       "5050.0"
      ]
     },
     "execution_count": 130,
     "metadata": {},
     "output_type": "execute_result"
    }
   ],
   "source": [
    "Sum(100)"
   ]
  },
  {
   "cell_type": "code",
   "execution_count": null,
   "metadata": {},
   "outputs": [],
   "source": []
  }
 ],
 "metadata": {
  "kernelspec": {
   "display_name": "Python 3",
   "language": "python",
   "name": "python3"
  },
  "language_info": {
   "codemirror_mode": {
    "name": "ipython",
    "version": 3
   },
   "file_extension": ".py",
   "mimetype": "text/x-python",
   "name": "python",
   "nbconvert_exporter": "python",
   "pygments_lexer": "ipython3",
   "version": "3.8.5"
  }
 },
 "nbformat": 4,
 "nbformat_minor": 4
}
