{
 "cells": [
  {
   "cell_type": "markdown",
   "metadata": {},
   "source": [
    "1.Write a Python Program to Display Fibonacci Sequence Using Recursion?\n",
    "-----------------------"
   ]
  },
  {
   "cell_type": "code",
   "execution_count": 25,
   "metadata": {},
   "outputs": [
    {
     "name": "stdout",
     "output_type": "stream",
     "text": [
      "Fibonacci sequence:\n",
      "0\n",
      "1\n",
      "1\n",
      "2\n",
      "3\n",
      "5\n",
      "8\n",
      "13\n",
      "21\n",
      "34\n"
     ]
    }
   ],
   "source": [
    "def recursion_fibonacci(a):\n",
    "    if a <= 1:\n",
    "        return a\n",
    "    else:\n",
    "        return(recursion_fibonacci(a-1) + recursion_fibonacci(a-2))\n",
    "\n",
    "ntrms = 10\n",
    "\n",
    "if ntrms <= 0:\n",
    "    print(\" Enter Positive Integer\")\n",
    "else:\n",
    "    print(\"Fibonacci sequence:\")\n",
    "    for i in range(ntrms):\n",
    "        print(recursion_fibonacci(i))"
   ]
  },
  {
   "cell_type": "markdown",
   "metadata": {},
   "source": [
    "2.Write a Python Program to Find Factorial of Number Using Recursion?\n",
    "------------------------"
   ]
  },
  {
   "cell_type": "code",
   "execution_count": 34,
   "metadata": {},
   "outputs": [
    {
     "name": "stdout",
     "output_type": "stream",
     "text": [
      " The factorial of 7 is 5040\n"
     ]
    }
   ],
   "source": [
    "def factorial_Recursion(n):\n",
    "    if n == 1:\n",
    "        return n\n",
    "    else:\n",
    "        return n*factorial_Recursion(n-1)\n",
    "num = 7\n",
    "if num < 0:\n",
    "    print(\"Please Enter Positive Number\")\n",
    "elif num == 0:\n",
    "    print(\"The factorial of 0 is 1\")\n",
    "else:\n",
    "     print(f\" The factorial of {num} is {factorial_Recursion(num)}\")"
   ]
  },
  {
   "cell_type": "markdown",
   "metadata": {},
   "source": [
    "3.Write a Python Program to calculate your Body Mass Index?\n",
    "--------------------"
   ]
  },
  {
   "cell_type": "code",
   "execution_count": 35,
   "metadata": {},
   "outputs": [],
   "source": [
    "class mass:\n",
    "    def __init__(self,height,weight):\n",
    "        self.height=height\n",
    "        self.weight=weight\n",
    "    def body_mass(self):\n",
    "        print(\"Your body mass index is: \", round(self.weight / (self.height * self.height), 2))"
   ]
  },
  {
   "cell_type": "code",
   "execution_count": 36,
   "metadata": {},
   "outputs": [],
   "source": [
    "body=mass(6,60)"
   ]
  },
  {
   "cell_type": "code",
   "execution_count": 37,
   "metadata": {},
   "outputs": [
    {
     "name": "stdout",
     "output_type": "stream",
     "text": [
      "Your body mass index is:  1.67\n"
     ]
    }
   ],
   "source": [
    "body.body_mass()"
   ]
  },
  {
   "cell_type": "markdown",
   "metadata": {},
   "source": [
    "4.Write a Python Program to calculate the natural logarithm of any number?\n",
    "------------------"
   ]
  },
  {
   "cell_type": "code",
   "execution_count": 47,
   "metadata": {},
   "outputs": [
    {
     "name": "stdout",
     "output_type": "stream",
     "text": [
      "Enter Any Number:5\n",
      "Log of 5  is 1.6094379124341003\n"
     ]
    }
   ],
   "source": [
    "import math\n",
    "user_input=int(input(\"Enter Any Number:\"))\n",
    "print (f\"Log of {user_input}  is {math.log(user_input)}\")"
   ]
  },
  {
   "cell_type": "markdown",
   "metadata": {},
   "source": [
    "5.Write a Python Program for cube sum of first n natural numbers?\n",
    "--------------------------"
   ]
  },
  {
   "cell_type": "code",
   "execution_count": 39,
   "metadata": {},
   "outputs": [],
   "source": [
    "class SumCube:\n",
    "    def __init__(self,n):\n",
    "        self.n=n\n",
    "    def sumOfSeries(self):\n",
    "        sum = 0\n",
    "        for i in range(1, self.n+1):\n",
    "            sum +=i*i*i\n",
    "        return sum"
   ]
  },
  {
   "cell_type": "code",
   "execution_count": 40,
   "metadata": {},
   "outputs": [
    {
     "data": {
      "text/plain": [
       "225"
      ]
     },
     "execution_count": 40,
     "metadata": {},
     "output_type": "execute_result"
    }
   ],
   "source": [
    "SUM_of_Cube=SumCube(5)\n",
    "SUM_of_Cube.sumOfSeries()"
   ]
  },
  {
   "cell_type": "code",
   "execution_count": null,
   "metadata": {},
   "outputs": [],
   "source": []
  }
 ],
 "metadata": {
  "kernelspec": {
   "display_name": "Python 3",
   "language": "python",
   "name": "python3"
  },
  "language_info": {
   "codemirror_mode": {
    "name": "ipython",
    "version": 3
   },
   "file_extension": ".py",
   "mimetype": "text/x-python",
   "name": "python",
   "nbconvert_exporter": "python",
   "pygments_lexer": "ipython3",
   "version": "3.8.5"
  }
 },
 "nbformat": 4,
 "nbformat_minor": 4
}
